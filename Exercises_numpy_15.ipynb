{
 "cells": [
  {
   "cell_type": "markdown",
   "metadata": {},
   "source": [
    "## Exercise 1: NumPy: Create an array with values ranging from 50 to 100"
   ]
  },
  {
   "cell_type": "code",
   "execution_count": 1,
   "metadata": {},
   "outputs": [
    {
     "name": "stdout",
     "output_type": "stream",
     "text": [
      "[ 50  51  52  53  54  55  56  57  58  59  60  61  62  63  64  65  66  67\n",
      "  68  69  70  71  72  73  74  75  76  77  78  79  80  81  82  83  84  85\n",
      "  86  87  88  89  90  91  92  93  94  95  96  97  98  99 100]\n"
     ]
    }
   ],
   "source": [
    "import numpy as np\n",
    "array = np.arange(50,101)\n",
    "array"
   ]
  },
  {
   "cell_type": "markdown",
   "metadata": {},
   "source": [
    "## Exercise 2: Add a border around an existing array\n",
    "##### Hint: np.pad()"
   ]
  },
  {
   "cell_type": "code",
   "execution_count": 2,
   "metadata": {},
   "outputs": [
    {
     "name": "stdout",
     "output_type": "stream",
     "text": [
      "Original array:\n",
      "[[1. 1. 1.]\n",
      " [1. 1. 1.]\n",
      " [1. 1. 1.]]\n",
      "0 on the border and 1 inside in the array\n",
      "[[0. 0. 0. 0. 0.]\n",
      " [0. 1. 1. 1. 0.]\n",
      " [0. 1. 1. 1. 0.]\n",
      " [0. 1. 1. 1. 0.]\n",
      " [0. 0. 0. 0. 0.]]\n"
     ]
    }
   ],
   "source": [
    "array_1 = np.ones((3,3))\n",
    "array_2 = np.pad(array_1,pad_width =1)\n",
    "print(\"original array\",array_1)\n",
    "print(\"second array\",array_2)"
   ]
  },
  {
   "cell_type": "markdown",
   "metadata": {},
   "source": [
    "## Exercise 3: Convert a list and tuple into arrays"
   ]
  },
  {
   "cell_type": "code",
   "execution_count": 6,
   "metadata": {
    "scrolled": true
   },
   "outputs": [
    {
     "name": "stdout",
     "output_type": "stream",
     "text": [
      "List to array: \n",
      "[1 2 3 4 5 6 7 8]\n",
      "Tuple to array: \n",
      "[[8 4 6]\n",
      " [1 2 3]]\n"
     ]
    }
   ],
   "source": [
    "lst = [1,2,3,4,5,6,7,8]\n",
    "s=np.array(lst)\n",
    "print(s)\n",
    "print(type(s))\n",
    "\n",
    "tup=(8,4,6,1,2,3)\n",
    "arr =np.array(tup).reshape(2,3)\n",
    "print(arr)\n",
    "\n",
    "s_array = np.asarray(tup)\n",
    "s_array"
   ]
  },
  {
   "cell_type": "markdown",
   "metadata": {},
   "source": [
    "## Also try np.asarray for the problem above! "
   ]
  },
  {
   "cell_type": "markdown",
   "metadata": {},
   "source": [
    "## Exercise 4:  Convert the values of Centigrade degrees into Fahrenheit degrees"
   ]
  },
  {
   "cell_type": "code",
   "execution_count": 4,
   "metadata": {},
   "outputs": [
    {
     "name": "stdout",
     "output_type": "stream",
     "text": [
      "Values in Fahrenheit degrees:\n",
      "[ 0.   12.   45.21 34.   99.91]\n",
      "Values in  Centigrade degrees:\n",
      "[-17.77777778 -11.11111111   7.33888889   1.11111111  37.72777778]\n"
     ]
    }
   ],
   "source": [
    "faren_array = np.array([0.  , 12.  , 45.21, 34. ,  99.91])\n",
    "centi_lst=[]\n",
    "for i in faren_array:\n",
    "    temp_lst =(i-32)/1.8\n",
    "    centi_lst.append(temp_lst)\n",
    "centi_array = np.asarray(centi_lst)\n",
    "print(\"Fahrenheit\",faren_array)\n",
    "print(\"Centigrade\",centi_array)"
   ]
  },
  {
   "cell_type": "markdown",
   "metadata": {},
   "source": [
    "## Exercise 5: Write a NumPy program to find the number of elements of an array, length of one array element in bytes and total bytes consumed by the elements. "
   ]
  },
  {
   "cell_type": "code",
   "execution_count": 7,
   "metadata": {},
   "outputs": [
    {
     "name": "stdout",
     "output_type": "stream",
     "text": [
      "Size of the array:  3\n",
      "Length of one array element in bytes:  8\n",
      "Total bytes consumed by the elements of the array:  24\n"
     ]
    }
   ],
   "source": [
    "array_1= np.array([1,3,5], dtype=np.float64)\n",
    "print(\"size of array\",len(array_1))\n",
    "print(\"size of array\",array_1.size)\n",
    "print(\"Length of one array element in bytes:\",array_1.itemsize)\n",
    "print(\"Total bytes consumed by the elements of the array:\",array_1.nbytes)"
   ]
  },
  {
   "cell_type": "markdown",
   "metadata": {},
   "source": [
    "## Exercise 6: Get the unique elements of an array"
   ]
  },
  {
   "cell_type": "code",
   "execution_count": 9,
   "metadata": {},
   "outputs": [
    {
     "name": "stdout",
     "output_type": "stream",
     "text": [
      "Original array:\n",
      "[10 10 20 20 30 30]\n",
      "Unique elements of the above array:\n",
      "[10 20 30]\n",
      "Original array:\n",
      "[[1 1]\n",
      " [2 3]]\n",
      "Unique elements of the above array:\n",
      "[1 2 3]\n"
     ]
    }
   ],
   "source": [
    "array_1 = np.array([10,10,20,4,9,9,5])\n",
    "x=np.unique(array_1)\n",
    "x\n",
    "array_2 = np.array([[2,2,3],[4,6,6]])\n",
    "array_3 = array_2.reshape(2,3)\n",
    "print(array_3)\n",
    "y=np.unique(array_3)\n",
    "y"
   ]
  },
  {
   "cell_type": "markdown",
   "metadata": {},
   "source": [
    "## Exercise 7: Change the dimension of an array\n"
   ]
  },
  {
   "cell_type": "code",
   "execution_count": 11,
   "metadata": {},
   "outputs": [
    {
     "name": "stdout",
     "output_type": "stream",
     "text": [
      "Original array: [1 2 3 4 5 6 7 8 9]\n",
      "Change array shape to (3, 3) -> 3 rows and 3 columns \n",
      "[[1 2 3]\n",
      " [4 5 6]\n",
      " [7 8 9]]\n"
     ]
    }
   ],
   "source": [
    "array_1 =np.array([1, 2 ,3 ,4 ,5 ,6, 7 ,8, 9])\n",
    "array_2= array_1.reshape(3,3)\n",
    "print(\"Original array:\",array_1)\n",
    "print(\"reshaped array\\n\",array_2)"
   ]
  },
  {
   "cell_type": "markdown",
   "metadata": {},
   "source": [
    "## Exercise 8: Create a 1-D array of 30 evenly spaced elements between 2.5. and 6.5, inclusive"
   ]
  },
  {
   "cell_type": "code",
   "execution_count": 12,
   "metadata": {},
   "outputs": [
    {
     "name": "stdout",
     "output_type": "stream",
     "text": [
      "[2.5        2.63793103 2.77586207 2.9137931  3.05172414 3.18965517\n",
      " 3.32758621 3.46551724 3.60344828 3.74137931 3.87931034 4.01724138\n",
      " 4.15517241 4.29310345 4.43103448 4.56896552 4.70689655 4.84482759\n",
      " 4.98275862 5.12068966 5.25862069 5.39655172 5.53448276 5.67241379\n",
      " 5.81034483 5.94827586 6.0862069  6.22413793 6.36206897 6.5       ]\n"
     ]
    }
   ],
   "source": [
    "array_1 =np.linspace(2.5,6.5,30)\n",
    "print(array_1)"
   ]
  },
  {
   "cell_type": "markdown",
   "metadata": {},
   "source": [
    "## Exercise 9: Convert 1-D arrays as columns into a 2-D array"
   ]
  },
  {
   "cell_type": "code",
   "execution_count": 21,
   "metadata": {},
   "outputs": [
    {
     "name": "stdout",
     "output_type": "stream",
     "text": [
      "Array1: [10 20 30]\n",
      "Array2: [40 50 60]\n",
      "Converted array\n",
      "[[10 40]\n",
      " [20 50]\n",
      " [30 60]]\n"
     ]
    }
   ],
   "source": [
    "array_1 =np.array([10,20,30])\n",
    "array_2 =np.array([40,50,60])\n",
    "res_array= np.stack((array_1,array_2),axis=1)\n",
    "print(res_array)"
   ]
  },
  {
   "cell_type": "markdown",
   "metadata": {},
   "source": [
    "## Exercise 10: Create a 5x5 matrix with row values ranging from 0 to 4"
   ]
  },
  {
   "cell_type": "code",
   "execution_count": 22,
   "metadata": {},
   "outputs": [
    {
     "name": "stdout",
     "output_type": "stream",
     "text": [
      "Original array:\n",
      "[[0. 0. 0. 0. 0.]\n",
      " [0. 0. 0. 0. 0.]\n",
      " [0. 0. 0. 0. 0.]\n",
      " [0. 0. 0. 0. 0.]\n",
      " [0. 0. 0. 0. 0.]]\n",
      "Row values ranging from 0 to 4.\n",
      "[[0. 1. 2. 3. 4.]\n",
      " [0. 1. 2. 3. 4.]\n",
      " [0. 1. 2. 3. 4.]\n",
      " [0. 1. 2. 3. 4.]\n",
      " [0. 1. 2. 3. 4.]]\n"
     ]
    }
   ],
   "source": [
    "array_1 =np.zeros((5,5))\n",
    "print(array_1)\n",
    "array_2 =np.arange(5)\n",
    "array_2= array_1+array_2\n",
    "print(array_2)"
   ]
  },
  {
   "cell_type": "markdown",
   "metadata": {},
   "source": [
    "## Exercise 11: Sum of all the multiples of 3 or 5 below 100"
   ]
  },
  {
   "cell_type": "code",
   "execution_count": 23,
   "metadata": {},
   "outputs": [
    {
     "name": "stdout",
     "output_type": "stream",
     "text": [
      "[ 3  5  6  9 10 12 15 18 20 21 24 25 27 30 33 35 36 39 40 42 45 48 50 51\n",
      " 54 55 57 60 63 65 66 69 70 72 75 78 80 81 84 85 87 90 93 95 96 99]\n",
      "2318\n"
     ]
    }
   ],
   "source": [
    "array_1 = np.arange(1, 100)\n",
    "n= array_1[(array_1 % 3 == 0) | (array_1 % 5 == 0)]\n",
    "print(n[:100])\n",
    "print(n.sum())"
   ]
  },
  {
   "cell_type": "markdown",
   "metadata": {},
   "source": [
    "## Exercise 12: Combine a one and a two dimensional array together and display their elements\n",
    "##### Hint : np.nditer()"
   ]
  },
  {
   "cell_type": "code",
   "execution_count": 28,
   "metadata": {},
   "outputs": [
    {
     "name": "stdout",
     "output_type": "stream",
     "text": [
      "0\n",
      "0\n",
      "1\n",
      "1\n",
      "2\n",
      "2\n",
      "3\n",
      "3\n"
     ]
    }
   ],
   "source": [
    "x = np.arange(4)\n",
    "y = np.arange(4)\n",
    "for a, b in np.nditer([x,y]):\n",
    "    print(a)\n",
    "    print(b)"
   ]
  },
  {
   "cell_type": "code",
   "execution_count": 29,
   "metadata": {},
   "outputs": [
    {
     "name": "stdout",
     "output_type": "stream",
     "text": [
      "One dimensional array:\n",
      "[0 1 2 3]\n",
      "Two dimensional array:\n",
      "[[0 1 2 3]\n",
      " [4 5 6 7]]\n",
      "0:0\n",
      "1:1\n",
      "2:2\n",
      "3:3\n",
      "0:4\n",
      "1:5\n",
      "2:6\n",
      "3:7\n"
     ]
    }
   ],
   "source": [
    "array_1 = np.array([0,1,2,3])\n",
    "array_2 = np.arange(8).reshape(2,4)\n",
    "print(\"One dimensional array:\")\n",
    "print(array_1)\n",
    "print(\"two dimensional array:\")\n",
    "print(array_2)\n",
    "for x,y in np.nditer([array_1,array_2]):\n",
    "    print(\"%d:%d\" % (x,y),)\n"
   ]
  },
  {
   "cell_type": "markdown",
   "metadata": {},
   "source": [
    "## Exercise 13: Write a NumPy program to replace all elements of NumPy array that are greater than specified array."
   ]
  },
  {
   "cell_type": "code",
   "execution_count": 30,
   "metadata": {},
   "outputs": [
    {
     "name": "stdout",
     "output_type": "stream",
     "text": [
      "Original array:\n",
      "[[0.42436315 0.48558583 0.32924763]\n",
      " [0.7439979  0.58220701 0.38213418]\n",
      " [0.5097581  0.34528799 0.1563123 ]]\n",
      "Replace all elements of the said array with .5 which are greater than .5\n",
      "[[0.42436315 0.48558583 0.32924763]\n",
      " [0.5        0.5        0.38213418]\n",
      " [0.5        0.34528799 0.1563123 ]]\n"
     ]
    }
   ],
   "source": [
    "array_1 = np.array([0.42436315 ,0.48558583 ,0.32924763,0.7439979 , 0.58220701, 0.38213418,0.5097581,  0.34528799 ,0.1563123])\n",
    "array_1 = array_1.reshape(3,3)\n",
    "print(\"Original array\")\n",
    "print(array_1)\n",
    "print(\"Replace all elements of the said array with .5 which are greater than .5\")\n",
    "array_1[array_1>.5] = .5\n",
    "print(array_1)"
   ]
  },
  {
   "cell_type": "markdown",
   "metadata": {},
   "source": [
    "## Exercise 14: Add a new row to an empty numpy array"
   ]
  },
  {
   "cell_type": "code",
   "execution_count": 34,
   "metadata": {},
   "outputs": [
    {
     "name": "stdout",
     "output_type": "stream",
     "text": [
      "Empty array:\n",
      "[]\n",
      "After adding two new arrays:\n",
      "[[10 20 30]\n",
      " [40 50 60]]\n"
     ]
    }
   ],
   "source": [
    "array_1 =np.empty((0,3), int)\n",
    "print(\"empty array\")\n",
    "print(array_1)\n",
    "array_1 =np.append(array_1,np.array([[10 ,20 ,30]]),axis=0)\n",
    "array_1 = np.append(array_1,np.array([[40 ,50 ,60]]),axis=0)\n",
    "print(\"After adding two new arrays:\")\n",
    "print(array_1)"
   ]
  },
  {
   "cell_type": "markdown",
   "metadata": {},
   "source": [
    "## Exercise 15: Write a NumPy program to join a sequence of arrays along a new axis. "
   ]
  },
  {
   "cell_type": "code",
   "execution_count": 35,
   "metadata": {
    "scrolled": false
   },
   "outputs": [
    {
     "name": "stdout",
     "output_type": "stream",
     "text": [
      "Original arrays:\n",
      "[1 2 3]\n",
      "[2 3 4]\n",
      "Sequence of arrays along a new axis:\n",
      "[[1 2 3]\n",
      " [2 3 4]]\n",
      "\n",
      "Original arrays:\n",
      "[[1]\n",
      " [2]\n",
      " [3]]\n",
      "\n",
      "[[2]\n",
      " [3]\n",
      " [4]]\n",
      "Sequence of arrays along a new axis:\n",
      "[[1]\n",
      " [2]\n",
      " [3]\n",
      " [2]\n",
      " [3]\n",
      " [4]]\n"
     ]
    }
   ],
   "source": [
    "array_1 = np.array([1,2,3])\n",
    "array_2 = np.array([2,3,4])\n",
    "print(\"Original Arrays:\")\n",
    "print(array_1)\n",
    "print(array_2)\n",
    "print(\"Sequence of arrays along a new axis:\")\n",
    "array_3 = np.stack((array_1,array_2))\n",
    "print(array_3)\n",
    "arr_1 =np.array([1,2,3])\n",
    "arr_2 =np.array([2,3,4])\n",
    "print(\"Original arrays\")\n",
    "array_4 = arr_1.transpose()\n",
    "array_5 = arr_2.transpose()\n",
    "print(array_4)\n",
    "print(array_5)\n",
    "print(\"sequence of arrays along a new axis:\\n\" ,np.stack((array_4,array_5)).reshape(6,1))\n"
   ]
  },
  {
   "cell_type": "code",
   "execution_count": null,
   "metadata": {},
   "outputs": [],
   "source": []
  }
 ],
 "metadata": {
  "kernelspec": {
   "display_name": "Python 3",
   "language": "python",
   "name": "python3"
  },
  "language_info": {
   "codemirror_mode": {
    "name": "ipython",
    "version": 3
   },
   "file_extension": ".py",
   "mimetype": "text/x-python",
   "name": "python",
   "nbconvert_exporter": "python",
   "pygments_lexer": "ipython3",
   "version": "3.8.5"
  }
 },
 "nbformat": 4,
 "nbformat_minor": 4
}
